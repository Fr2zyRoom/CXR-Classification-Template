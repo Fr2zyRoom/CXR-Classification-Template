{
 "cells": [
  {
   "cell_type": "code",
   "execution_count": null,
   "id": "8b369f3e-24c5-4e79-9947-955b249b0922",
   "metadata": {},
   "outputs": [],
   "source": [
    "!nvidia-smi"
   ]
  },
  {
   "cell_type": "code",
   "execution_count": null,
   "id": "f768d5c7-c51f-4ddf-ae2a-97a64a50e08f",
   "metadata": {
    "tags": []
   },
   "outputs": [],
   "source": [
    "!python train.py --dataroot '/home/CXR-MRSA-Prediction/DATA/refined_data/SNUH_CXR_MRSA/' \\\n",
    "--csvpath '/home/CXR-MRSA-Prediction/DATA/Pneumonia_MRSA_Prediction_refined.csv' \\\n",
    "--savepoint '/home/CXR_Classification_Template/ckpt' \\\n",
    "--wandb_project 'MRSA' \\\n",
    "--name 'convnext_small_eql_gc_trial00' \\\n",
    "--seed 30 \\\n",
    "--resize_factor 512 \\\n",
    "--fname_col 'FileName' \\\n",
    "--label_col 'MRSA_Case' \\\n",
    "--class_num 2 \\\n",
    "--model 'convnext_small' \\\n",
    "--criterion 'eql_loss' \\\n",
    "--batch_size 16 \\\n",
    "--n_epochs 1000 \\\n",
    "--lr 0.000001 \\\n",
    "--patience 20"
   ]
  },
  {
   "cell_type": "code",
   "execution_count": null,
   "id": "fa978739-7082-4376-a130-2f8eb8bd58a5",
   "metadata": {},
   "outputs": [],
   "source": []
  }
 ],
 "metadata": {
  "kernelspec": {
   "display_name": "Python 3 (ipykernel)",
   "language": "python",
   "name": "python3"
  },
  "language_info": {
   "codemirror_mode": {
    "name": "ipython",
    "version": 3
   },
   "file_extension": ".py",
   "mimetype": "text/x-python",
   "name": "python",
   "nbconvert_exporter": "python",
   "pygments_lexer": "ipython3",
   "version": "3.8.15"
  }
 },
 "nbformat": 4,
 "nbformat_minor": 5
}
